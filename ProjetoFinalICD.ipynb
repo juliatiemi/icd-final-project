{
 "cells": [
  {
   "cell_type": "markdown",
   "metadata": {},
   "source": [
    "# Dados\n",
    "\n",
    "Este trabalho prático foi realizado utilizando dados obtidos do site Kaggle. O dataset escolhido se chama Life Expectancy (WHO)."
   ]
  },
  {
   "cell_type": "markdown",
   "metadata": {},
   "source": [
    "O repositório Global Health Observatory (GHO) é mantido pela World Health Organization (WHO) e acompanha a situação da saúde e fatores relacioandos de todos os países. Os datasets estão disponíveis para análise de dados sobre saúde.\n",
    "O dataset de Expectativa de Vida reune dados sobre 193 países coletados pela WHO.\n",
    "Nos últimos 15 anos, o setor de saúde se desenvolveu muito, resultando em uma melhora na taxa de mortalidade. Essa diferença foi ainda mais evidente em países em desenvolvimento. Por esse motivo, o dataset contém dados de 2000 até 2015.\n",
    "O dataset é uma junção de vários outros datasets individuais que foram previamente tratados pelo criador. Utilizando o comando Missmap, ele identificou que a maioria dos dados faltantes eram de população, Hepatite B e Produto Interno Bruto (GDP).\n",
    "Os países com o maior número de dados faltantes são Vanuatu, Tonga, Togo, Cabo Verde. O criador do dataset decidiu excluí-los pela dificuldade de encontrar os dados."
   ]
  },
  {
   "cell_type": "code",
   "execution_count": null,
   "metadata": {},
   "outputs": [],
   "source": [
    "import pandas as pd\n",
    "import re"
   ]
  },
  {
   "cell_type": "markdown",
   "metadata": {},
   "source": [
    "Como a mortalidade infantil e adulta afeta a expectativa de vida ?\n",
    "Como a escolaridade (e consequentemente o acesso a informação) afeta a expectativa de vida ?\n",
    "Como o consumo de alcool / vacinação influencia a expectativa de vida ?"
   ]
  }
 ],
 "metadata": {
  "kernelspec": {
   "display_name": "Python 3",
   "language": "python",
   "name": "python3"
  },
  "language_info": {
   "codemirror_mode": {
    "name": "ipython",
    "version": 2
   },
   "file_extension": ".py",
   "mimetype": "text/x-python",
   "name": "python",
   "nbconvert_exporter": "python",
   "pygments_lexer": "ipython2",
   "version": "2.7.16"
  }
 },
 "nbformat": 4,
 "nbformat_minor": 2
}
